{
 "cells": [
  {
   "cell_type": "code",
   "execution_count": 29,
   "id": "9d568333-1b46-461e-bd9d-376471ce0d6a",
   "metadata": {},
   "outputs": [],
   "source": [
    "import pandas as pd\n",
    "import numpy as np\n",
    "import matplotlib.pyplot as plt \n",
    "import pickle\n",
    "from sklearn.linear_model import LogisticRegression\n",
    "from sklearn.model_selection import train_test_split\n",
    "from sklearn.metrics import classification_report, confusion_matrix, accuracy_score\n",
    "from sklearn.preprocessing import StandardScaler"
   ]
  },
  {
   "cell_type": "markdown",
   "id": "eeabe1d7-9161-449b-8d93-74d49f1f932a",
   "metadata": {},
   "source": [
    "##### ### Key Name\tDescription\n",
    "1. \n",
    "Loan_ID\tUnique Lo\n",
    "a    n ID2. \n",
    "Gender\tMale/ F    \n",
    "    emal3. e\n",
    "Married\tApplicant married    \n",
    "     (Y/4. N)\n",
    "Dependents\tNumber of dep    \n",
    "    ende5. nts\n",
    "Education\tApplicant Education (Graduate/ Under G    \n",
    "    radu6. ate)\n",
    "Self_Employed\tSelf-emplo    \n",
    "    yed 7. (Y/N)\n",
    "ApplicantIncome\tApplic    \n",
    "    ant 8. income\n",
    "CoapplicantIncome\tCoappli    \n",
    "    cant9.  income\n",
    "LoanAmount\tLoan amount     \n",
    "    in t10. housands\n",
    "Loan_Amount_Term\tTerm of a l    \n",
    "    oan 11. in months\n",
    "Credit_History\tcredit history me    \n",
    "    ets 12. guidelines\n",
    "Property_Area\tUrban/ Se    \n",
    "    mi-U13. rban/ Rural\n",
    "Loan_Status\tLoan approved (Y/N)\n"
   ]
  },
  {
   "cell_type": "code",
   "execution_count": 30,
   "id": "5191829e-8ab3-4ee1-ad67-7753616f37d3",
   "metadata": {},
   "outputs": [
    {
     "data": {
      "text/html": [
       "<div>\n",
       "<style scoped>\n",
       "    .dataframe tbody tr th:only-of-type {\n",
       "        vertical-align: middle;\n",
       "    }\n",
       "\n",
       "    .dataframe tbody tr th {\n",
       "        vertical-align: top;\n",
       "    }\n",
       "\n",
       "    .dataframe thead th {\n",
       "        text-align: right;\n",
       "    }\n",
       "</style>\n",
       "<table border=\"1\" class=\"dataframe\">\n",
       "  <thead>\n",
       "    <tr style=\"text-align: right;\">\n",
       "      <th></th>\n",
       "      <th>Loan_ID</th>\n",
       "      <th>Dependents</th>\n",
       "      <th>Education</th>\n",
       "      <th>ApplicantIncome</th>\n",
       "      <th>LoanAmount</th>\n",
       "      <th>Credit_History</th>\n",
       "      <th>Property_Area</th>\n",
       "      <th>Loan_Status</th>\n",
       "    </tr>\n",
       "  </thead>\n",
       "  <tbody>\n",
       "    <tr>\n",
       "      <th>0</th>\n",
       "      <td>LP001003</td>\n",
       "      <td>1</td>\n",
       "      <td>Graduate</td>\n",
       "      <td>4583</td>\n",
       "      <td>128.0</td>\n",
       "      <td>1.0</td>\n",
       "      <td>Rural</td>\n",
       "      <td>N</td>\n",
       "    </tr>\n",
       "    <tr>\n",
       "      <th>1</th>\n",
       "      <td>LP001005</td>\n",
       "      <td>0</td>\n",
       "      <td>Graduate</td>\n",
       "      <td>3000</td>\n",
       "      <td>66.0</td>\n",
       "      <td>1.0</td>\n",
       "      <td>Urban</td>\n",
       "      <td>Y</td>\n",
       "    </tr>\n",
       "    <tr>\n",
       "      <th>2</th>\n",
       "      <td>LP001006</td>\n",
       "      <td>0</td>\n",
       "      <td>Not Graduate</td>\n",
       "      <td>2583</td>\n",
       "      <td>120.0</td>\n",
       "      <td>1.0</td>\n",
       "      <td>Urban</td>\n",
       "      <td>Y</td>\n",
       "    </tr>\n",
       "    <tr>\n",
       "      <th>3</th>\n",
       "      <td>LP001008</td>\n",
       "      <td>0</td>\n",
       "      <td>Graduate</td>\n",
       "      <td>6000</td>\n",
       "      <td>141.0</td>\n",
       "      <td>1.0</td>\n",
       "      <td>Urban</td>\n",
       "      <td>Y</td>\n",
       "    </tr>\n",
       "    <tr>\n",
       "      <th>4</th>\n",
       "      <td>LP001011</td>\n",
       "      <td>2</td>\n",
       "      <td>Graduate</td>\n",
       "      <td>5417</td>\n",
       "      <td>267.0</td>\n",
       "      <td>1.0</td>\n",
       "      <td>Urban</td>\n",
       "      <td>Y</td>\n",
       "    </tr>\n",
       "  </tbody>\n",
       "</table>\n",
       "</div>"
      ],
      "text/plain": [
       "    Loan_ID Dependents     Education  ApplicantIncome  LoanAmount  \\\n",
       "0  LP001003          1      Graduate             4583       128.0   \n",
       "1  LP001005          0      Graduate             3000        66.0   \n",
       "2  LP001006          0  Not Graduate             2583       120.0   \n",
       "3  LP001008          0      Graduate             6000       141.0   \n",
       "4  LP001011          2      Graduate             5417       267.0   \n",
       "\n",
       "   Credit_History Property_Area Loan_Status  \n",
       "0             1.0         Rural           N  \n",
       "1             1.0         Urban           Y  \n",
       "2             1.0         Urban           Y  \n",
       "3             1.0         Urban           Y  \n",
       "4             1.0         Urban           Y  "
      ]
     },
     "execution_count": 30,
     "metadata": {},
     "output_type": "execute_result"
    }
   ],
   "source": [
    "df = pd.read_csv('lt.csv.csv')\n",
    "df.head()"
   ]
  },
  {
   "cell_type": "markdown",
   "id": "98e14afe-78c6-40bc-a4fd-412d59eb00c6",
   "metadata": {},
   "source": [
    "Remove loan id column (irrelevant)"
   ]
  },
  {
   "cell_type": "code",
   "execution_count": 31,
   "id": "139da4cc-e02c-45ad-b112-738244a157a0",
   "metadata": {},
   "outputs": [],
   "source": [
    "df.drop([\"Loan_ID\"], axis=\"columns\", inplace=True)\n",
    "df.dropna(inplace=True)"
   ]
  },
  {
   "cell_type": "code",
   "execution_count": 32,
   "id": "30551184-8713-4550-b1ea-986638db1fc9",
   "metadata": {},
   "outputs": [
    {
     "data": {
      "text/html": [
       "<div>\n",
       "<style scoped>\n",
       "    .dataframe tbody tr th:only-of-type {\n",
       "        vertical-align: middle;\n",
       "    }\n",
       "\n",
       "    .dataframe tbody tr th {\n",
       "        vertical-align: top;\n",
       "    }\n",
       "\n",
       "    .dataframe thead th {\n",
       "        text-align: right;\n",
       "    }\n",
       "</style>\n",
       "<table border=\"1\" class=\"dataframe\">\n",
       "  <thead>\n",
       "    <tr style=\"text-align: right;\">\n",
       "      <th></th>\n",
       "      <th>Dependents</th>\n",
       "      <th>Education</th>\n",
       "      <th>ApplicantIncome</th>\n",
       "      <th>LoanAmount</th>\n",
       "      <th>Credit_History</th>\n",
       "      <th>Property_Area</th>\n",
       "      <th>Loan_Status</th>\n",
       "    </tr>\n",
       "  </thead>\n",
       "  <tbody>\n",
       "    <tr>\n",
       "      <th>0</th>\n",
       "      <td>1</td>\n",
       "      <td>Graduate</td>\n",
       "      <td>4583</td>\n",
       "      <td>128.0</td>\n",
       "      <td>1.0</td>\n",
       "      <td>Rural</td>\n",
       "      <td>N</td>\n",
       "    </tr>\n",
       "    <tr>\n",
       "      <th>1</th>\n",
       "      <td>0</td>\n",
       "      <td>Graduate</td>\n",
       "      <td>3000</td>\n",
       "      <td>66.0</td>\n",
       "      <td>1.0</td>\n",
       "      <td>Urban</td>\n",
       "      <td>Y</td>\n",
       "    </tr>\n",
       "    <tr>\n",
       "      <th>2</th>\n",
       "      <td>0</td>\n",
       "      <td>Not Graduate</td>\n",
       "      <td>2583</td>\n",
       "      <td>120.0</td>\n",
       "      <td>1.0</td>\n",
       "      <td>Urban</td>\n",
       "      <td>Y</td>\n",
       "    </tr>\n",
       "    <tr>\n",
       "      <th>3</th>\n",
       "      <td>0</td>\n",
       "      <td>Graduate</td>\n",
       "      <td>6000</td>\n",
       "      <td>141.0</td>\n",
       "      <td>1.0</td>\n",
       "      <td>Urban</td>\n",
       "      <td>Y</td>\n",
       "    </tr>\n",
       "    <tr>\n",
       "      <th>4</th>\n",
       "      <td>2</td>\n",
       "      <td>Graduate</td>\n",
       "      <td>5417</td>\n",
       "      <td>267.0</td>\n",
       "      <td>1.0</td>\n",
       "      <td>Urban</td>\n",
       "      <td>Y</td>\n",
       "    </tr>\n",
       "    <tr>\n",
       "      <th>...</th>\n",
       "      <td>...</td>\n",
       "      <td>...</td>\n",
       "      <td>...</td>\n",
       "      <td>...</td>\n",
       "      <td>...</td>\n",
       "      <td>...</td>\n",
       "      <td>...</td>\n",
       "    </tr>\n",
       "    <tr>\n",
       "      <th>547</th>\n",
       "      <td>0</td>\n",
       "      <td>Graduate</td>\n",
       "      <td>2900</td>\n",
       "      <td>71.0</td>\n",
       "      <td>1.0</td>\n",
       "      <td>Rural</td>\n",
       "      <td>Y</td>\n",
       "    </tr>\n",
       "    <tr>\n",
       "      <th>548</th>\n",
       "      <td>3+</td>\n",
       "      <td>Graduate</td>\n",
       "      <td>4106</td>\n",
       "      <td>40.0</td>\n",
       "      <td>1.0</td>\n",
       "      <td>Rural</td>\n",
       "      <td>Y</td>\n",
       "    </tr>\n",
       "    <tr>\n",
       "      <th>549</th>\n",
       "      <td>1</td>\n",
       "      <td>Graduate</td>\n",
       "      <td>8072</td>\n",
       "      <td>253.0</td>\n",
       "      <td>1.0</td>\n",
       "      <td>Urban</td>\n",
       "      <td>Y</td>\n",
       "    </tr>\n",
       "    <tr>\n",
       "      <th>550</th>\n",
       "      <td>2</td>\n",
       "      <td>Graduate</td>\n",
       "      <td>7583</td>\n",
       "      <td>187.0</td>\n",
       "      <td>1.0</td>\n",
       "      <td>Urban</td>\n",
       "      <td>Y</td>\n",
       "    </tr>\n",
       "    <tr>\n",
       "      <th>551</th>\n",
       "      <td>0</td>\n",
       "      <td>Graduate</td>\n",
       "      <td>4583</td>\n",
       "      <td>133.0</td>\n",
       "      <td>0.0</td>\n",
       "      <td>Semiurban</td>\n",
       "      <td>N</td>\n",
       "    </tr>\n",
       "  </tbody>\n",
       "</table>\n",
       "<p>531 rows × 7 columns</p>\n",
       "</div>"
      ],
      "text/plain": [
       "    Dependents     Education  ApplicantIncome  LoanAmount  Credit_History  \\\n",
       "0            1      Graduate             4583       128.0             1.0   \n",
       "1            0      Graduate             3000        66.0             1.0   \n",
       "2            0  Not Graduate             2583       120.0             1.0   \n",
       "3            0      Graduate             6000       141.0             1.0   \n",
       "4            2      Graduate             5417       267.0             1.0   \n",
       "..         ...           ...              ...         ...             ...   \n",
       "547          0      Graduate             2900        71.0             1.0   \n",
       "548         3+      Graduate             4106        40.0             1.0   \n",
       "549          1      Graduate             8072       253.0             1.0   \n",
       "550          2      Graduate             7583       187.0             1.0   \n",
       "551          0      Graduate             4583       133.0             0.0   \n",
       "\n",
       "    Property_Area Loan_Status  \n",
       "0           Rural           N  \n",
       "1           Urban           Y  \n",
       "2           Urban           Y  \n",
       "3           Urban           Y  \n",
       "4           Urban           Y  \n",
       "..            ...         ...  \n",
       "547         Rural           Y  \n",
       "548         Rural           Y  \n",
       "549         Urban           Y  \n",
       "550         Urban           Y  \n",
       "551     Semiurban           N  \n",
       "\n",
       "[531 rows x 7 columns]"
      ]
     },
     "execution_count": 32,
     "metadata": {},
     "output_type": "execute_result"
    }
   ],
   "source": [
    "df"
   ]
  },
  {
   "cell_type": "markdown",
   "id": "a8026f72-e3b9-41b5-8e6a-e43a55c2e03b",
   "metadata": {},
   "source": [
    "edit and convert number on string data to numeric"
   ]
  },
  {
   "cell_type": "code",
   "execution_count": 33,
   "id": "7c91554a-4678-4f1a-8b2c-1d779f350232",
   "metadata": {},
   "outputs": [
    {
     "data": {
      "text/html": [
       "<div>\n",
       "<style scoped>\n",
       "    .dataframe tbody tr th:only-of-type {\n",
       "        vertical-align: middle;\n",
       "    }\n",
       "\n",
       "    .dataframe tbody tr th {\n",
       "        vertical-align: top;\n",
       "    }\n",
       "\n",
       "    .dataframe thead th {\n",
       "        text-align: right;\n",
       "    }\n",
       "</style>\n",
       "<table border=\"1\" class=\"dataframe\">\n",
       "  <thead>\n",
       "    <tr style=\"text-align: right;\">\n",
       "      <th></th>\n",
       "      <th>Dependents</th>\n",
       "      <th>Education</th>\n",
       "      <th>ApplicantIncome</th>\n",
       "      <th>LoanAmount</th>\n",
       "      <th>Credit_History</th>\n",
       "      <th>Property_Area</th>\n",
       "      <th>Loan_Status</th>\n",
       "    </tr>\n",
       "  </thead>\n",
       "  <tbody>\n",
       "    <tr>\n",
       "      <th>0</th>\n",
       "      <td>1</td>\n",
       "      <td>Graduate</td>\n",
       "      <td>4583</td>\n",
       "      <td>128.0</td>\n",
       "      <td>1.0</td>\n",
       "      <td>Rural</td>\n",
       "      <td>N</td>\n",
       "    </tr>\n",
       "    <tr>\n",
       "      <th>1</th>\n",
       "      <td>0</td>\n",
       "      <td>Graduate</td>\n",
       "      <td>3000</td>\n",
       "      <td>66.0</td>\n",
       "      <td>1.0</td>\n",
       "      <td>Urban</td>\n",
       "      <td>Y</td>\n",
       "    </tr>\n",
       "    <tr>\n",
       "      <th>2</th>\n",
       "      <td>0</td>\n",
       "      <td>Not Graduate</td>\n",
       "      <td>2583</td>\n",
       "      <td>120.0</td>\n",
       "      <td>1.0</td>\n",
       "      <td>Urban</td>\n",
       "      <td>Y</td>\n",
       "    </tr>\n",
       "    <tr>\n",
       "      <th>3</th>\n",
       "      <td>0</td>\n",
       "      <td>Graduate</td>\n",
       "      <td>6000</td>\n",
       "      <td>141.0</td>\n",
       "      <td>1.0</td>\n",
       "      <td>Urban</td>\n",
       "      <td>Y</td>\n",
       "    </tr>\n",
       "    <tr>\n",
       "      <th>4</th>\n",
       "      <td>2</td>\n",
       "      <td>Graduate</td>\n",
       "      <td>5417</td>\n",
       "      <td>267.0</td>\n",
       "      <td>1.0</td>\n",
       "      <td>Urban</td>\n",
       "      <td>Y</td>\n",
       "    </tr>\n",
       "  </tbody>\n",
       "</table>\n",
       "</div>"
      ],
      "text/plain": [
       "   Dependents     Education  ApplicantIncome  LoanAmount  Credit_History  \\\n",
       "0           1      Graduate             4583       128.0             1.0   \n",
       "1           0      Graduate             3000        66.0             1.0   \n",
       "2           0  Not Graduate             2583       120.0             1.0   \n",
       "3           0      Graduate             6000       141.0             1.0   \n",
       "4           2      Graduate             5417       267.0             1.0   \n",
       "\n",
       "  Property_Area Loan_Status  \n",
       "0         Rural           N  \n",
       "1         Urban           Y  \n",
       "2         Urban           Y  \n",
       "3         Urban           Y  \n",
       "4         Urban           Y  "
      ]
     },
     "execution_count": 33,
     "metadata": {},
     "output_type": "execute_result"
    }
   ],
   "source": [
    "df.Dependents = df['Dependents'].replace('3+', '3')\n",
    "df.Dependents = pd.to_numeric(df['Dependents'], errors='coerce').astype(int)\n",
    "\n",
    "df.Dependents.unique()\n",
    "\n",
    "df.head()"
   ]
  },
  {
   "cell_type": "markdown",
   "id": "c367b2be-dd89-47ed-96bc-3cda4081061e",
   "metadata": {},
   "source": [
    "convert y/n and male/female data to 1/0"
   ]
  },
  {
   "cell_type": "code",
   "execution_count": 34,
   "id": "9abefa05-1e4c-4f76-950c-e6e36aa6e790",
   "metadata": {},
   "outputs": [],
   "source": [
    "#df['Self_Employed'] = df['Self_Employed'].replace({'Yes': 1, 'No': 0})\n",
    "df['Dependents'] = pd.factorize(df['Dependents'])[0] + 1\n",
    "df['Property_Area'] = pd.factorize(df['Property_Area'])[0] + 1\n",
    "df['Loan_Status'] = df['Loan_Status'].replace({'Y': 1, 'N': 0})\n",
    "df['Education'] = df['Education'].replace({'Graduate': 1, \"Not Graduate\": 0})\n",
    "df[\"Credit_History\"] = pd.to_numeric(df['Credit_History'], errors='coerce').astype(int)\n",
    "df[\"LoanAmount\"] = pd.to_numeric(df['LoanAmount'], errors='coerce').astype(int)"
   ]
  },
  {
   "cell_type": "markdown",
   "id": "19237c97-b413-4ba8-bf72-db58309e696e",
   "metadata": {},
   "source": [
    "base on dataset source, loan amount are written in thousands so we will use the real number"
   ]
  },
  {
   "cell_type": "code",
   "execution_count": 35,
   "id": "ebc4b81e-42dc-4ec2-be8b-1ae27b9cf034",
   "metadata": {},
   "outputs": [],
   "source": [
    "df[\"LoanAmount\"] = df.LoanAmount*1000"
   ]
  },
  {
   "cell_type": "markdown",
   "id": "3cba87d7-4ca3-4c45-b022-584787b66b78",
   "metadata": {},
   "source": [
    "look at features correlation and remove unperformed features"
   ]
  },
  {
   "cell_type": "code",
   "execution_count": 36,
   "id": "43d75aed-707e-48bf-b0a8-a0b8fb953d73",
   "metadata": {},
   "outputs": [],
   "source": [
    "#df.drop([ \"Loan_Amount_Term\", \"Self_Employed\"], axis=\"columns\", inplace=True)"
   ]
  },
  {
   "cell_type": "code",
   "execution_count": 37,
   "id": "37466bcd-cd01-4a8f-80fa-edaa8cab3d6b",
   "metadata": {},
   "outputs": [
    {
     "data": {
      "text/html": [
       "<div>\n",
       "<style scoped>\n",
       "    .dataframe tbody tr th:only-of-type {\n",
       "        vertical-align: middle;\n",
       "    }\n",
       "\n",
       "    .dataframe tbody tr th {\n",
       "        vertical-align: top;\n",
       "    }\n",
       "\n",
       "    .dataframe thead th {\n",
       "        text-align: right;\n",
       "    }\n",
       "</style>\n",
       "<table border=\"1\" class=\"dataframe\">\n",
       "  <thead>\n",
       "    <tr style=\"text-align: right;\">\n",
       "      <th></th>\n",
       "      <th>Dependents</th>\n",
       "      <th>Education</th>\n",
       "      <th>ApplicantIncome</th>\n",
       "      <th>LoanAmount</th>\n",
       "      <th>Credit_History</th>\n",
       "      <th>Property_Area</th>\n",
       "      <th>Loan_Status</th>\n",
       "    </tr>\n",
       "  </thead>\n",
       "  <tbody>\n",
       "    <tr>\n",
       "      <th>0</th>\n",
       "      <td>1</td>\n",
       "      <td>1</td>\n",
       "      <td>4583</td>\n",
       "      <td>128000</td>\n",
       "      <td>1</td>\n",
       "      <td>1</td>\n",
       "      <td>0</td>\n",
       "    </tr>\n",
       "    <tr>\n",
       "      <th>1</th>\n",
       "      <td>2</td>\n",
       "      <td>1</td>\n",
       "      <td>3000</td>\n",
       "      <td>66000</td>\n",
       "      <td>1</td>\n",
       "      <td>2</td>\n",
       "      <td>1</td>\n",
       "    </tr>\n",
       "    <tr>\n",
       "      <th>2</th>\n",
       "      <td>2</td>\n",
       "      <td>0</td>\n",
       "      <td>2583</td>\n",
       "      <td>120000</td>\n",
       "      <td>1</td>\n",
       "      <td>2</td>\n",
       "      <td>1</td>\n",
       "    </tr>\n",
       "    <tr>\n",
       "      <th>3</th>\n",
       "      <td>2</td>\n",
       "      <td>1</td>\n",
       "      <td>6000</td>\n",
       "      <td>141000</td>\n",
       "      <td>1</td>\n",
       "      <td>2</td>\n",
       "      <td>1</td>\n",
       "    </tr>\n",
       "    <tr>\n",
       "      <th>4</th>\n",
       "      <td>3</td>\n",
       "      <td>1</td>\n",
       "      <td>5417</td>\n",
       "      <td>267000</td>\n",
       "      <td>1</td>\n",
       "      <td>2</td>\n",
       "      <td>1</td>\n",
       "    </tr>\n",
       "    <tr>\n",
       "      <th>...</th>\n",
       "      <td>...</td>\n",
       "      <td>...</td>\n",
       "      <td>...</td>\n",
       "      <td>...</td>\n",
       "      <td>...</td>\n",
       "      <td>...</td>\n",
       "      <td>...</td>\n",
       "    </tr>\n",
       "    <tr>\n",
       "      <th>547</th>\n",
       "      <td>2</td>\n",
       "      <td>1</td>\n",
       "      <td>2900</td>\n",
       "      <td>71000</td>\n",
       "      <td>1</td>\n",
       "      <td>1</td>\n",
       "      <td>1</td>\n",
       "    </tr>\n",
       "    <tr>\n",
       "      <th>548</th>\n",
       "      <td>4</td>\n",
       "      <td>1</td>\n",
       "      <td>4106</td>\n",
       "      <td>40000</td>\n",
       "      <td>1</td>\n",
       "      <td>1</td>\n",
       "      <td>1</td>\n",
       "    </tr>\n",
       "    <tr>\n",
       "      <th>549</th>\n",
       "      <td>1</td>\n",
       "      <td>1</td>\n",
       "      <td>8072</td>\n",
       "      <td>253000</td>\n",
       "      <td>1</td>\n",
       "      <td>2</td>\n",
       "      <td>1</td>\n",
       "    </tr>\n",
       "    <tr>\n",
       "      <th>550</th>\n",
       "      <td>3</td>\n",
       "      <td>1</td>\n",
       "      <td>7583</td>\n",
       "      <td>187000</td>\n",
       "      <td>1</td>\n",
       "      <td>2</td>\n",
       "      <td>1</td>\n",
       "    </tr>\n",
       "    <tr>\n",
       "      <th>551</th>\n",
       "      <td>2</td>\n",
       "      <td>1</td>\n",
       "      <td>4583</td>\n",
       "      <td>133000</td>\n",
       "      <td>0</td>\n",
       "      <td>3</td>\n",
       "      <td>0</td>\n",
       "    </tr>\n",
       "  </tbody>\n",
       "</table>\n",
       "<p>531 rows × 7 columns</p>\n",
       "</div>"
      ],
      "text/plain": [
       "     Dependents  Education  ApplicantIncome  LoanAmount  Credit_History  \\\n",
       "0             1          1             4583      128000               1   \n",
       "1             2          1             3000       66000               1   \n",
       "2             2          0             2583      120000               1   \n",
       "3             2          1             6000      141000               1   \n",
       "4             3          1             5417      267000               1   \n",
       "..          ...        ...              ...         ...             ...   \n",
       "547           2          1             2900       71000               1   \n",
       "548           4          1             4106       40000               1   \n",
       "549           1          1             8072      253000               1   \n",
       "550           3          1             7583      187000               1   \n",
       "551           2          1             4583      133000               0   \n",
       "\n",
       "     Property_Area  Loan_Status  \n",
       "0                1            0  \n",
       "1                2            1  \n",
       "2                2            1  \n",
       "3                2            1  \n",
       "4                2            1  \n",
       "..             ...          ...  \n",
       "547              1            1  \n",
       "548              1            1  \n",
       "549              2            1  \n",
       "550              2            1  \n",
       "551              3            0  \n",
       "\n",
       "[531 rows x 7 columns]"
      ]
     },
     "execution_count": 37,
     "metadata": {},
     "output_type": "execute_result"
    }
   ],
   "source": [
    "df"
   ]
  },
  {
   "cell_type": "code",
   "execution_count": 38,
   "id": "e6ca43ae-bd4d-4cb2-ac7d-e6d26253f9a1",
   "metadata": {},
   "outputs": [],
   "source": [
    "scaler = StandardScaler()\n",
    "df[[\"ApplicantIncome\", \"LoanAmount\"]] = scaler.fit_transform(df[[\"ApplicantIncome\", \"LoanAmount\"]])"
   ]
  },
  {
   "cell_type": "markdown",
   "id": "5ed9cd62-7bce-4fd1-b7d8-0e05b7f923ed",
   "metadata": {},
   "source": [
    "each column impact on loan status visualization"
   ]
  },
  {
   "cell_type": "code",
   "execution_count": 39,
   "id": "7a8c7547-45b5-4452-8a58-49a882fd325a",
   "metadata": {},
   "outputs": [
    {
     "data": {
      "text/plain": [
       "<Axes: xlabel='Property_Area'>"
      ]
     },
     "execution_count": 39,
     "metadata": {},
     "output_type": "execute_result"
    },
    {
     "data": {
      "image/png": "[encoded data removed]",
      "text/plain": [
       "<Figure size 640x480 with 1 Axes>"
      ]
     },
     "metadata": {},
     "output_type": "display_data"
    },
    {
     "data": {
      "image/png": "[encoded data removed]",
      "text/plain": [
       "<Figure size 640x480 with 1 Axes>"
      ]
     },
     "metadata": {},
     "output_type": "display_data"
    },
    {
     "data": {
      "image/png": "[encoded data removed]",
      "text/plain": [
       "<Figure size 640x480 with 1 Axes>"
      ]
     },
     "metadata": {},
     "output_type": "display_data"
    },
    {
     "data": {
      "image/png": "[encoded data removed]",
      "text/plain": [
       "<Figure size 640x480 with 1 Axes>"
      ]
     },
     "metadata": {},
     "output_type": "display_data"
    }
   ],
   "source": [
    "pd.crosstab(df['Dependents'], df.Loan_Status).plot(kind=\"bar\")\n",
    "pd.crosstab(df['Education'], df.Loan_Status).plot(kind=\"bar\")\n",
    "pd.crosstab(df['Credit_History'], df.Loan_Status).plot(kind=\"bar\")\n",
    "pd.crosstab(df['Property_Area'], df.Loan_Status).plot(kind=\"bar\")"
   ]
  },
  {
   "cell_type": "code",
   "execution_count": 40,
   "id": "d845511e-9d59-4362-af0c-d33fa2874c44",
   "metadata": {},
   "outputs": [
    {
     "data": {
      "text/plain": [
       "(368, 7)"
      ]
     },
     "execution_count": 40,
     "metadata": {},
     "output_type": "execute_result"
    }
   ],
   "source": [
    "df[df.Loan_Status == 1].shape"
   ]
  },
  {
   "cell_type": "code",
   "execution_count": 41,
   "id": "049c1263-3cfd-48c3-9d47-1124fb6cde4f",
   "metadata": {},
   "outputs": [
    {
     "data": {
      "text/plain": [
       "(163, 7)"
      ]
     },
     "execution_count": 41,
     "metadata": {},
     "output_type": "execute_result"
    }
   ],
   "source": [
    "df[df.Loan_Status == 0].shape"
   ]
  },
  {
   "cell_type": "markdown",
   "id": "1f4ab06c-d440-4511-8531-78a58e145a5b",
   "metadata": {},
   "source": [
    "<b> 4. Data Preparation"
   ]
  },
  {
   "cell_type": "code",
   "execution_count": 42,
   "id": "17a907aa",
   "metadata": {},
   "outputs": [],
   "source": [
    "#Extracting Independent and dependent Variable  \n",
    "X = df.drop([\"Loan_Status\"], axis=1)\n",
    "y = df['Loan_Status']"
   ]
  },
  {
   "cell_type": "code",
   "execution_count": 43,
   "id": "4ea217c1-3963-4442-8db1-4470d38dcb6c",
   "metadata": {},
   "outputs": [],
   "source": [
    "X_train, X_test, y_train, y_test = train_test_split(X, y, test_size=0.3, random_state=64)"
   ]
  },
  {
   "cell_type": "markdown",
   "id": "4f3839c8-2837-4f61-8b77-978da6d86db9",
   "metadata": {},
   "source": [
    "<b> 5. Create LOGISTIC Regression model"
   ]
  },
  {
   "cell_type": "code",
   "execution_count": 44,
   "id": "26add327",
   "metadata": {},
   "outputs": [
    {
     "data": {
      "text/html": [
       "<style>#sk-container-id-2 {color: black;background-color: white;}#sk-container-id-2 pre{padding: 0;}#sk-container-id-2 div.sk-toggleable {background-color: white;}#sk-container-id-2 label.sk-toggleable__label {cursor: pointer;display: block;width: 100%;margin-bottom: 0;padding: 0.3em;box-sizing: border-box;text-align: center;}#sk-container-id-2 label.sk-toggleable__label-arrow:before {content: \"▸\";float: left;margin-right: 0.25em;color: #696969;}#sk-container-id-2 label.sk-toggleable__label-arrow:hover:before {color: black;}#sk-container-id-2 div.sk-estimator:hover label.sk-toggleable__label-arrow:before {color: black;}#sk-container-id-2 div.sk-toggleable__content {max-height: 0;max-width: 0;overflow: hidden;text-align: left;background-color: #f0f8ff;}#sk-container-id-2 div.sk-toggleable__content pre {margin: 0.2em;color: black;border-radius: 0.25em;background-color: #f0f8ff;}#sk-container-id-2 input.sk-toggleable__control:checked~div.sk-toggleable__content {max-height: 200px;max-width: 100%;overflow: auto;}#sk-container-id-2 input.sk-toggleable__control:checked~label.sk-toggleable__label-arrow:before {content: \"▾\";}#sk-container-id-2 div.sk-estimator input.sk-toggleable__control:checked~label.sk-toggleable__label {background-color: #d4ebff;}#sk-container-id-2 div.sk-label input.sk-toggleable__control:checked~label.sk-toggleable__label {background-color: #d4ebff;}#sk-container-id-2 input.sk-hidden--visually {border: 0;clip: rect(1px 1px 1px 1px);clip: rect(1px, 1px, 1px, 1px);height: 1px;margin: -1px;overflow: hidden;padding: 0;position: absolute;width: 1px;}#sk-container-id-2 div.sk-estimator {font-family: monospace;background-color: #f0f8ff;border: 1px dotted black;border-radius: 0.25em;box-sizing: border-box;margin-bottom: 0.5em;}#sk-container-id-2 div.sk-estimator:hover {background-color: #d4ebff;}#sk-container-id-2 div.sk-parallel-item::after {content: \"\";width: 100%;border-bottom: 1px solid gray;flex-grow: 1;}#sk-container-id-2 div.sk-label:hover label.sk-toggleable__label {background-color: #d4ebff;}#sk-container-id-2 div.sk-serial::before {content: \"\";position: absolute;border-left: 1px solid gray;box-sizing: border-box;top: 0;bottom: 0;left: 50%;z-index: 0;}#sk-container-id-2 div.sk-serial {display: flex;flex-direction: column;align-items: center;background-color: white;padding-right: 0.2em;padding-left: 0.2em;position: relative;}#sk-container-id-2 div.sk-item {position: relative;z-index: 1;}#sk-container-id-2 div.sk-parallel {display: flex;align-items: stretch;justify-content: center;background-color: white;position: relative;}#sk-container-id-2 div.sk-item::before, #sk-container-id-2 div.sk-parallel-item::before {content: \"\";position: absolute;border-left: 1px solid gray;box-sizing: border-box;top: 0;bottom: 0;left: 50%;z-index: -1;}#sk-container-id-2 div.sk-parallel-item {display: flex;flex-direction: column;z-index: 1;position: relative;background-color: white;}#sk-container-id-2 div.sk-parallel-item:first-child::after {align-self: flex-end;width: 50%;}#sk-container-id-2 div.sk-parallel-item:last-child::after {align-self: flex-start;width: 50%;}#sk-container-id-2 div.sk-parallel-item:only-child::after {width: 0;}#sk-container-id-2 div.sk-dashed-wrapped {border: 1px dashed gray;margin: 0 0.4em 0.5em 0.4em;box-sizing: border-box;padding-bottom: 0.4em;background-color: white;}#sk-container-id-2 div.sk-label label {font-family: monospace;font-weight: bold;display: inline-block;line-height: 1.2em;}#sk-container-id-2 div.sk-label-container {text-align: center;}#sk-container-id-2 div.sk-container {/* jupyter's `normalize.less` sets `[hidden] { display: none; }` but bootstrap.min.css set `[hidden] { display: none !important; }` so we also need the `!important` here to be able to override the default hidden behavior on the sphinx rendered scikit-learn.org. See: https://github.com/scikit-learn/scikit-learn/issues/21755 */display: inline-block !important;position: relative;}#sk-container-id-2 div.sk-text-repr-fallback {display: none;}</style><div id=\"sk-container-id-2\" class=\"sk-top-container\"><div class=\"sk-text-repr-fallback\"><pre>LogisticRegression(random_state=0)</pre><b>In a Jupyter environment, please rerun this cell to show the HTML representation or trust the notebook. <br />On GitHub, the HTML representation is unable to render, please try loading this page with nbviewer.org.</b></div><div class=\"sk-container\" hidden><div class=\"sk-item\"><div class=\"sk-estimator sk-toggleable\"><input class=\"sk-toggleable__control sk-hidden--visually\" id=\"sk-estimator-id-2\" type=\"checkbox\" checked><label for=\"sk-estimator-id-2\" class=\"sk-toggleable__label sk-toggleable__label-arrow\">LogisticRegression</label><div class=\"sk-toggleable__content\"><pre>LogisticRegression(random_state=0)</pre></div></div></div></div></div>"
      ],
      "text/plain": [
       "LogisticRegression(random_state=0)"
      ]
     },
     "execution_count": 44,
     "metadata": {},
     "output_type": "execute_result"
    }
   ],
   "source": [
    "#Fitting Logistic Regression to the training set  \n",
    "from sklearn.linear_model import LogisticRegression  \n",
    "classifier= LogisticRegression(random_state=0)  \n",
    "classifier.fit(X_train, y_train)  \n"
   ]
  },
  {
   "cell_type": "code",
   "execution_count": 45,
   "id": "2a551cfe-943e-4440-9ca5-d1b31b76b541",
   "metadata": {},
   "outputs": [
    {
     "data": {
      "text/plain": [
       "0.80625"
      ]
     },
     "execution_count": 45,
     "metadata": {},
     "output_type": "execute_result"
    }
   ],
   "source": [
    "regression = LogisticRegression(C=1, penalty='l1', solver='liblinear')\n",
    "regression.fit(X_train, y_train)\n",
    "regression.score(X_test, y_test)"
   ]
  },
  {
   "cell_type": "code",
   "execution_count": 46,
   "id": "4347b909",
   "metadata": {},
   "outputs": [],
   "source": [
    "#Predicting the test set result  \n",
    "y_pred= classifier.predict(X_test)  "
   ]
  },
  {
   "cell_type": "code",
   "execution_count": 47,
   "id": "b2aed27e",
   "metadata": {},
   "outputs": [],
   "source": [
    "from sklearn.metrics import confusion_matrix\n",
    "cm=confusion_matrix(y_test,y_pred)"
   ]
  },
  {
   "cell_type": "code",
   "execution_count": 48,
   "id": "ae7b8554",
   "metadata": {},
   "outputs": [
    {
     "data": {
      "text/plain": [
       "array([[ 25,  27],\n",
       "       [  4, 104]], dtype=int64)"
      ]
     },
     "execution_count": 48,
     "metadata": {},
     "output_type": "execute_result"
    }
   ],
   "source": [
    "cm"
   ]
  },
  {
   "cell_type": "code",
   "execution_count": 49,
   "id": "83dd30e1",
   "metadata": {},
   "outputs": [
    {
     "data": {
      "text/plain": [
       "<Axes: xlabel='ApplicantIncome', ylabel='LoanAmount'>"
      ]
     },
     "execution_count": 49,
     "metadata": {},
     "output_type": "execute_result"
    },
    {
     "data": {
      "image/png": "[encoded data removed]",
      "text/plain": [
       "<Figure size 640x480 with 1 Axes>"
      ]
     },
     "metadata": {},
     "output_type": "display_data"
    }
   ],
   "source": [
    "import seaborn as sns\n",
    "sns.scatterplot(x='ApplicantIncome', y='LoanAmount', hue='Loan_Status',data=df)"
   ]
  },
  {
   "cell_type": "code",
   "execution_count": 50,
   "id": "5b43c704-2b56-43ec-b356-11873689a0c5",
   "metadata": {},
   "outputs": [],
   "source": [
    "#with open('logistic_loan.pkl', 'wb') as f:\n",
    "    #pickle.dump(regression, f)"
   ]
  },
  {
   "cell_type": "code",
   "execution_count": 56,
   "id": "11a84a8d",
   "metadata": {},
   "outputs": [
    {
     "name": "stderr",
     "output_type": "stream",
     "text": [
      "C:\\Users\\Hsbc\\anaconda3\\lib\\site-packages\\sklearn\\base.py:420: UserWarning: X does not have valid feature names, but StandardScaler was fitted with feature names\n",
      "  warnings.warn(\n"
     ]
    },
    {
     "data": {
      "text/plain": [
       "array([[-0.15660185, -1.70300138]])"
      ]
     },
     "execution_count": 56,
     "metadata": {},
     "output_type": "execute_result"
    }
   ],
   "source": [
    "scaler.transform([[4500,3000]])"
   ]
  },
  {
   "cell_type": "code",
   "execution_count": 57,
   "id": "90af4eff",
   "metadata": {},
   "outputs": [],
   "source": [
    "#regression.predict([0,1,1,scaler.transform([[4500,3000]]),1,3])"
   ]
  },
  {
   "cell_type": "code",
   "execution_count": 58,
   "id": "80e36d28",
   "metadata": {},
   "outputs": [
    {
     "data": {
      "text/html": [
       "<div>\n",
       "<style scoped>\n",
       "    .dataframe tbody tr th:only-of-type {\n",
       "        vertical-align: middle;\n",
       "    }\n",
       "\n",
       "    .dataframe tbody tr th {\n",
       "        vertical-align: top;\n",
       "    }\n",
       "\n",
       "    .dataframe thead th {\n",
       "        text-align: right;\n",
       "    }\n",
       "</style>\n",
       "<table border=\"1\" class=\"dataframe\">\n",
       "  <thead>\n",
       "    <tr style=\"text-align: right;\">\n",
       "      <th></th>\n",
       "      <th>Dependents</th>\n",
       "      <th>Education</th>\n",
       "      <th>ApplicantIncome</th>\n",
       "      <th>LoanAmount</th>\n",
       "      <th>Credit_History</th>\n",
       "      <th>Property_Area</th>\n",
       "      <th>Loan_Status</th>\n",
       "    </tr>\n",
       "  </thead>\n",
       "  <tbody>\n",
       "    <tr>\n",
       "      <th>0</th>\n",
       "      <td>1</td>\n",
       "      <td>1</td>\n",
       "      <td>-0.143615</td>\n",
       "      <td>-0.211240</td>\n",
       "      <td>1</td>\n",
       "      <td>1</td>\n",
       "      <td>0</td>\n",
       "    </tr>\n",
       "    <tr>\n",
       "      <th>1</th>\n",
       "      <td>2</td>\n",
       "      <td>1</td>\n",
       "      <td>-0.391304</td>\n",
       "      <td>-0.951154</td>\n",
       "      <td>1</td>\n",
       "      <td>2</td>\n",
       "      <td>1</td>\n",
       "    </tr>\n",
       "    <tr>\n",
       "      <th>2</th>\n",
       "      <td>2</td>\n",
       "      <td>0</td>\n",
       "      <td>-0.456551</td>\n",
       "      <td>-0.306713</td>\n",
       "      <td>1</td>\n",
       "      <td>2</td>\n",
       "      <td>1</td>\n",
       "    </tr>\n",
       "    <tr>\n",
       "      <th>3</th>\n",
       "      <td>2</td>\n",
       "      <td>1</td>\n",
       "      <td>0.078100</td>\n",
       "      <td>-0.056097</td>\n",
       "      <td>1</td>\n",
       "      <td>2</td>\n",
       "      <td>1</td>\n",
       "    </tr>\n",
       "    <tr>\n",
       "      <th>4</th>\n",
       "      <td>3</td>\n",
       "      <td>1</td>\n",
       "      <td>-0.013121</td>\n",
       "      <td>1.447598</td>\n",
       "      <td>1</td>\n",
       "      <td>2</td>\n",
       "      <td>1</td>\n",
       "    </tr>\n",
       "    <tr>\n",
       "      <th>...</th>\n",
       "      <td>...</td>\n",
       "      <td>...</td>\n",
       "      <td>...</td>\n",
       "      <td>...</td>\n",
       "      <td>...</td>\n",
       "      <td>...</td>\n",
       "      <td>...</td>\n",
       "    </tr>\n",
       "    <tr>\n",
       "      <th>547</th>\n",
       "      <td>2</td>\n",
       "      <td>1</td>\n",
       "      <td>-0.406950</td>\n",
       "      <td>-0.891483</td>\n",
       "      <td>1</td>\n",
       "      <td>1</td>\n",
       "      <td>1</td>\n",
       "    </tr>\n",
       "    <tr>\n",
       "      <th>548</th>\n",
       "      <td>4</td>\n",
       "      <td>1</td>\n",
       "      <td>-0.218250</td>\n",
       "      <td>-1.261440</td>\n",
       "      <td>1</td>\n",
       "      <td>1</td>\n",
       "      <td>1</td>\n",
       "    </tr>\n",
       "    <tr>\n",
       "      <th>549</th>\n",
       "      <td>1</td>\n",
       "      <td>1</td>\n",
       "      <td>0.402301</td>\n",
       "      <td>1.280521</td>\n",
       "      <td>1</td>\n",
       "      <td>2</td>\n",
       "      <td>1</td>\n",
       "    </tr>\n",
       "    <tr>\n",
       "      <th>550</th>\n",
       "      <td>3</td>\n",
       "      <td>1</td>\n",
       "      <td>0.325788</td>\n",
       "      <td>0.492871</td>\n",
       "      <td>1</td>\n",
       "      <td>2</td>\n",
       "      <td>1</td>\n",
       "    </tr>\n",
       "    <tr>\n",
       "      <th>551</th>\n",
       "      <td>2</td>\n",
       "      <td>1</td>\n",
       "      <td>-0.143615</td>\n",
       "      <td>-0.151570</td>\n",
       "      <td>0</td>\n",
       "      <td>3</td>\n",
       "      <td>0</td>\n",
       "    </tr>\n",
       "  </tbody>\n",
       "</table>\n",
       "<p>531 rows × 7 columns</p>\n",
       "</div>"
      ],
      "text/plain": [
       "     Dependents  Education  ApplicantIncome  LoanAmount  Credit_History  \\\n",
       "0             1          1        -0.143615   -0.211240               1   \n",
       "1             2          1        -0.391304   -0.951154               1   \n",
       "2             2          0        -0.456551   -0.306713               1   \n",
       "3             2          1         0.078100   -0.056097               1   \n",
       "4             3          1        -0.013121    1.447598               1   \n",
       "..          ...        ...              ...         ...             ...   \n",
       "547           2          1        -0.406950   -0.891483               1   \n",
       "548           4          1        -0.218250   -1.261440               1   \n",
       "549           1          1         0.402301    1.280521               1   \n",
       "550           3          1         0.325788    0.492871               1   \n",
       "551           2          1        -0.143615   -0.151570               0   \n",
       "\n",
       "     Property_Area  Loan_Status  \n",
       "0                1            0  \n",
       "1                2            1  \n",
       "2                2            1  \n",
       "3                2            1  \n",
       "4                2            1  \n",
       "..             ...          ...  \n",
       "547              1            1  \n",
       "548              1            1  \n",
       "549              2            1  \n",
       "550              2            1  \n",
       "551              3            0  \n",
       "\n",
       "[531 rows x 7 columns]"
      ]
     },
     "execution_count": 58,
     "metadata": {},
     "output_type": "execute_result"
    }
   ],
   "source": [
    "df"
   ]
  },
  {
   "cell_type": "code",
   "execution_count": 59,
   "id": "c9748854",
   "metadata": {},
   "outputs": [],
   "source": [
    "pickle.dump(regression, open('logisticloan.pkl','wb'))"
   ]
  },
  {
   "cell_type": "code",
   "execution_count": 60,
   "id": "9201a05f",
   "metadata": {},
   "outputs": [
    {
     "data": {
      "text/plain": [
       "array([1, 1, 1, 1, 1, 1, 1, 1, 1, 0, 1, 1, 0, 1, 1, 1, 1, 1, 0, 1, 1, 1,\n",
       "       1, 1, 1, 1, 1, 1, 1, 1, 0, 1, 0, 1, 1, 1, 1, 1, 1, 0, 0, 0, 1, 1,\n",
       "       1, 1, 1, 1, 1, 1, 1, 1, 1, 0, 1, 1, 1, 1, 0, 1, 1, 1, 1, 1, 1, 1,\n",
       "       1, 1, 1, 1, 0, 1, 1, 0, 0, 0, 1, 1, 1, 1, 1, 0, 1, 0, 1, 1, 1, 1,\n",
       "       1, 1, 1, 1, 1, 1, 0, 1, 0, 1, 1, 1, 1, 1, 1, 1, 0, 1, 1, 1, 1, 0,\n",
       "       1, 1, 1, 1, 0, 0, 1, 1, 1, 1, 1, 1, 1, 1, 1, 1, 1, 0, 1, 0, 0, 1,\n",
       "       1, 1, 1, 1, 1, 0, 1, 1, 1, 1, 0, 1, 1, 1, 1, 1, 0, 1, 0, 1, 1, 1,\n",
       "       1, 1, 1, 1, 1, 1], dtype=int64)"
      ]
     },
     "execution_count": 60,
     "metadata": {},
     "output_type": "execute_result"
    }
   ],
   "source": [
    "pickled_model = pickle.load(open('logisticloan.pkl', 'rb'))\n",
    "pickled_model.predict(X_test)"
   ]
  },
  {
   "cell_type": "code",
   "execution_count": null,
   "id": "e02d4756",
   "metadata": {},
   "outputs": [],
   "source": []
  }
 ],
 "metadata": {
  "kernelspec": {
   "display_name": "Python 3 (ipykernel)",
   "language": "python",
   "name": "python3"
  },
  "language_info": {
   "codemirror_mode": {
    "name": "ipython",
    "version": 3
   },
   "file_extension": ".py",
   "mimetype": "text/x-python",
   "name": "python",
   "nbconvert_exporter": "python",
   "pygments_lexer": "ipython3",
   "version": "3.10.9"
  }
 },
 "nbformat": 4,
 "nbformat_minor": 5
}
